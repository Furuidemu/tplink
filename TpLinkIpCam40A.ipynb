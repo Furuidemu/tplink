{
 "cells": [
  {
   "cell_type": "code",
   "execution_count": 6,
   "metadata": {},
   "outputs": [],
   "source": [
    "import requests\n",
    "class TpLinkIpCam40A:\n",
    "    def __init__(self, ip_addr = '192.168.1.235', username = 'admin', password = 'no_password'): \n",
    "        stok = requests.post('http://' + ip_addr, json = { \"method\":\"do\", \"login\":{\"username\":username, \"password\":password}} ).json()['stok'] \n",
    "        self.url = 'http://{ip_addr}/stok={stok}/ds'.format(ip_addr=ip_addr, stok=stok)\n",
    "    def getModuleSpec(self):\n",
    "        return requests.post(self.url, json = {\"method\":\"get\", \"function\":{\"name\": ['module_spec']}}).json()\n",
    "    def getAudioSpec(self):\n",
    "        return requests.post(self.url, json = {\"method\":\"get\", \"audio_capability\":{\"name\": ['device_speaker', 'device_microphone']}}).json()\n",
    "    def getMotorCapability(self): \n",
    "        return requests.post(self.url, json = {\"method\":\"get\", \"motor\":{\"name\": ['capability']}}).json()\n",
    "    def getVhttpd(self):\n",
    "        return requests.post(self.url, json = {\"method\":\"get\", \"cet\":{\"name\": ['vhttpd']}}).json() \n",
    "    def getBasicInfo(self):\n",
    "        return requests.post(self.url, json = {\"method\":\"get\", \"device_info\":{\"name\": ['basic_info']}}).json()\n",
    "    def getSdCardInfo(self):\n",
    "        return requests.post(self.url, json = {\"method\":\"get\", \"sd_manage\":{\"table\": ['sd_info']}}).json()\n",
    "    def getTime(self):\n",
    "        return requests.post(self.url, json = {\"method\":\"get\", \"system\":{\"name\": ['clock_status']}}).json()\n",
    "    def motorMove(self, degree):\n",
    "        error_code = requests.post(self.url, json = {\"method\":\"do\", \"motor\":{\"movestep\":{\"direction\":degree}}}).json()['error_code'] \n",
    "        if not error_code:    \n",
    "            return 'Succeeded'\n",
    "        elif error_code == -64304:\n",
    "            return 'LimitReached'\n",
    "        else:\n",
    "            raise RuntimeError \n",
    "    def spinsClockwisely(self):\n",
    "        motorMove(0)\n",
    "    def goesVertical(self):\n",
    "        motorMove(90) \n",
    "    def spinsCounterClockwisely(self):\n",
    "        motorMove(180) \n",
    "    def goesHorizontally(self):\n",
    "        motorMove(270) "
   ]
  },
  {
   "cell_type": "code",
   "execution_count": 3,
   "metadata": {},
   "outputs": [],
   "source": [
    "cam = TpLinkIpCam40A()"
   ]
  },
  {
   "cell_type": "code",
   "execution_count": 8,
   "metadata": {},
   "outputs": [
    {
     "data": {
      "text/plain": [
       "'spinClockwisely'"
      ]
     },
     "execution_count": 8,
     "metadata": {},
     "output_type": "execute_result"
    }
   ],
   "source": [
    "cam.spinsClockwisely()"
   ]
  }
 ],
 "metadata": {
  "kernelspec": {
   "display_name": "Python 3",
   "language": "python",
   "name": "python3"
  },
  "language_info": {
   "codemirror_mode": {
    "name": "ipython",
    "version": 3
   },
   "file_extension": ".py",
   "mimetype": "text/x-python",
   "name": "python",
   "nbconvert_exporter": "python",
   "pygments_lexer": "ipython3",
   "version": "3.6.4"
  }
 },
 "nbformat": 4,
 "nbformat_minor": 2
}
